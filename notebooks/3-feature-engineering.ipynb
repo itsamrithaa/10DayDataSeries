{
 "cells": [
  {
   "cell_type": "markdown",
   "metadata": {},
   "source": [
    "# Day 3 – Feature Engineering\n",
    "\n",
    "Feature engineering is the process of transforming raw data into features that better represent the underlying problem. A thoughtful feature can be the difference between a mediocre model and a highly accurate one. Today, we'll create new features and prove their value."
   ]
  },
  {
   "cell_type": "markdown",
   "metadata": {},
   "source": [
    "## Load & Prepare Data\n",
    "\n",
    "For simplicity in this notebook, we'll drop rows with any missing data."
   ]
  },
  {
   "cell_type": "code",
   "execution_count": 329,
   "metadata": {},
   "outputs": [],
   "source": [
    "import pandas as pd\n",
    "import numpy as np\n",
    "import matplotlib.pyplot as plt\n",
    "import seaborn as sns\n",
    "from sklearn.linear_model import LinearRegression\n",
    "from sklearn.metrics import mean_squared_error, r2_score\n",
    "from sklearn.preprocessing import StandardScaler, MinMaxScaler\n",
    "\n",
    "\n",
    "# Load data\n",
    "mission_df = pd.read_csv(\"/Users/amrithaa/Downloads/12DayDataSeries/notebooks/data/mission_data.csv\")\n",
    "mission_df.head()\n",
    "\n",
    "# Handle missing values by dropping rows for this analysis\n",
    "df_clean = mission_df.dropna().copy()\n"
   ]
  },
  {
   "cell_type": "markdown",
   "metadata": {},
   "source": [
    "## Part 1: Feature Engineering in Action\n",
    "\n",
    "We will now engineer features in four new ways:"
   ]
  },
  {
   "cell_type": "markdown",
   "metadata": {},
   "source": [
    "### A. Binning\n",
    "\n",
    "Converting a continuous number into discrete categories can help models capture non-linear trends. "
   ]
  },
  {
   "cell_type": "code",
   "execution_count": 330,
   "metadata": {},
   "outputs": [],
   "source": [
    "# Binning mission durations\n",
    "df_clean[\"duration_bin\"] = pd.cut(\n",
    "    df_clean[\"mission_duration_days\"],\n",
    "    bins=[0, 250, 750, np.inf],\n",
    "    labels=[\"short\", \"medium\", \"long\"]\n",
    ")"
   ]
  },
  {
   "cell_type": "markdown",
   "metadata": {},
   "source": [
    "### B. One-hot Encoding\n",
    "Machine learning models require numeric input, so we convert categorical labels like `mission_type` and our new `duration_bin` into numbers using one-hot encoding."
   ]
  },
  {
   "cell_type": "code",
   "execution_count": 331,
   "metadata": {},
   "outputs": [],
   "source": [
    "# One-hot encode the 'mission_type' and 'duration_bin'\n",
    "df_encoded = pd.get_dummies(df_clean, columns=[\"mission_type\", \"duration_bin\"], drop_first=True)"
   ]
  },
  {
   "cell_type": "markdown",
   "metadata": {},
   "source": [
    "### B. Scaling & Normalization"
   ]
  },
  {
   "cell_type": "code",
   "execution_count": 332,
   "metadata": {},
   "outputs": [],
   "source": [
    "# Normalize numeric features\n",
    "numeric_cols = [\n",
    "    \"crew_size\", \"distance_to_target_km\", \"fuel_capacity_kg\", \"solar_flare_risk\",\n",
    "    \"mental_health_score\",\n",
    "]\n",
    "scaler = StandardScaler()\n",
    "df_encoded[numeric_cols] = scaler.fit_transform(df_encoded[numeric_cols])\n",
    "\n",
    "# Save cleaned and engineered dataset for future use\n",
    "df_encoded.to_csv(\"/Users/amrithaa/Downloads/12DayDataSeries/notebooks/data/encoded_data.csv\", index=False)"
   ]
  },
  {
   "cell_type": "markdown",
   "metadata": {},
   "source": [
    "This allows a model to learn, for example, that the jump in difficulty from a \"medium\" to a \"long\" mission is different than the jump from \"short\" to \"medium.\""
   ]
  },
  {
   "cell_type": "markdown",
   "metadata": {},
   "source": [
    "### D. Synthetic Features\n",
    "We'll combine three different sources of risk—solar flares, system anomalies, and poor crew health—into a single, more powerful feature."
   ]
  },
  {
   "cell_type": "code",
   "execution_count": 333,
   "metadata": {},
   "outputs": [
    {
     "data": {
      "application/vnd.microsoft.datawrangler.viewer.v0+json": {
       "columns": [
        {
         "name": "index",
         "rawType": "int64",
         "type": "integer"
        },
        {
         "name": "mission_id",
         "rawType": "object",
         "type": "string"
        },
        {
         "name": "crew_size",
         "rawType": "float64",
         "type": "float"
        },
        {
         "name": "mission_duration_days",
         "rawType": "float64",
         "type": "float"
        },
        {
         "name": "distance_to_target_km",
         "rawType": "float64",
         "type": "float"
        },
        {
         "name": "fuel_capacity_kg",
         "rawType": "float64",
         "type": "float"
        },
        {
         "name": "payload_mass_kg",
         "rawType": "float64",
         "type": "float"
        },
        {
         "name": "mental_health_score",
         "rawType": "float64",
         "type": "float"
        },
        {
         "name": "solar_flare_risk",
         "rawType": "float64",
         "type": "float"
        },
        {
         "name": "mission_cost_millions",
         "rawType": "float64",
         "type": "float"
        },
        {
         "name": "anomaly_detected",
         "rawType": "int64",
         "type": "integer"
        },
        {
         "name": "mission_success_score",
         "rawType": "float64",
         "type": "float"
        },
        {
         "name": "mission_outcome",
         "rawType": "object",
         "type": "string"
        },
        {
         "name": "mission_type_Rescue",
         "rawType": "bool",
         "type": "boolean"
        },
        {
         "name": "mission_type_Resupply",
         "rawType": "bool",
         "type": "boolean"
        },
        {
         "name": "duration_bin_medium",
         "rawType": "bool",
         "type": "boolean"
        },
        {
         "name": "duration_bin_long",
         "rawType": "bool",
         "type": "boolean"
        },
        {
         "name": "risk_score",
         "rawType": "float64",
         "type": "float"
        }
       ],
       "ref": "1056611e-4f89-4516-a6e7-b2fa577db213",
       "rows": [
        [
         "0",
         "MSN_0000",
         "1.5107173934651066",
         "1173.0",
         "-0.3378570908952993",
         "-0.20280694573907",
         "725.61",
         "-1.0679714212327076",
         "0.2755031921160524",
         "254.79",
         "0",
         "80.82",
         "Success",
         "False",
         "False",
         "False",
         "True",
         "0.37203347887773175"
        ],
        [
         "2",
         "MSN_0002",
         "0.5129630931967767",
         "1464.7",
         "0.5063203808224703",
         "0.3456544381692007",
         "810.49",
         "-0.11827444344080056",
         "-1.4880382943568107",
         "261.06",
         "0",
         "91.95",
         "Success",
         "False",
         "False",
         "False",
         "True",
         "0.16321209521609864"
        ],
        [
         "3",
         "MSN_0003",
         "1.5107173934651066",
         "1833.2",
         "1.3590118108167186",
         "1.5336232198431021",
         "1220.5",
         "0.06119585157499306",
         "-0.4968507435654934",
         "574.26",
         "0",
         "82.8",
         "Success",
         "True",
         "False",
         "False",
         "True",
         "0.22197390465925382"
        ],
        [
         "4",
         "MSN_0004",
         "-0.4847912070715532",
         "1678.2",
         "1.026103703136452",
         "0.6503197402032167",
         "927.37",
         "0.6818639551712785",
         "0.6359350287674405",
         "290.14",
         "0",
         "87.37",
         "Success",
         "False",
         "False",
         "False",
         "True",
         "0.25498498729694363"
        ],
        [
         "5",
         "MSN_0005",
         "0.5129630931967767",
         "1505.8",
         "0.5332195533481554",
         "0.7809712611673529",
         "978.6",
         "0.9211576818590034",
         "0.983494299824136",
         "460.06",
         "0",
         "88.98",
         "Success",
         "True",
         "False",
         "False",
         "True",
         "0.2610985852497901"
        ]
       ],
       "shape": {
        "columns": 17,
        "rows": 5
       }
      },
      "text/html": [
       "<div>\n",
       "<style scoped>\n",
       "    .dataframe tbody tr th:only-of-type {\n",
       "        vertical-align: middle;\n",
       "    }\n",
       "\n",
       "    .dataframe tbody tr th {\n",
       "        vertical-align: top;\n",
       "    }\n",
       "\n",
       "    .dataframe thead th {\n",
       "        text-align: right;\n",
       "    }\n",
       "</style>\n",
       "<table border=\"1\" class=\"dataframe\">\n",
       "  <thead>\n",
       "    <tr style=\"text-align: right;\">\n",
       "      <th></th>\n",
       "      <th>mission_id</th>\n",
       "      <th>crew_size</th>\n",
       "      <th>mission_duration_days</th>\n",
       "      <th>distance_to_target_km</th>\n",
       "      <th>fuel_capacity_kg</th>\n",
       "      <th>payload_mass_kg</th>\n",
       "      <th>mental_health_score</th>\n",
       "      <th>solar_flare_risk</th>\n",
       "      <th>mission_cost_millions</th>\n",
       "      <th>anomaly_detected</th>\n",
       "      <th>mission_success_score</th>\n",
       "      <th>mission_outcome</th>\n",
       "      <th>mission_type_Rescue</th>\n",
       "      <th>mission_type_Resupply</th>\n",
       "      <th>duration_bin_medium</th>\n",
       "      <th>duration_bin_long</th>\n",
       "      <th>risk_score</th>\n",
       "    </tr>\n",
       "  </thead>\n",
       "  <tbody>\n",
       "    <tr>\n",
       "      <th>0</th>\n",
       "      <td>MSN_0000</td>\n",
       "      <td>1.510717</td>\n",
       "      <td>1173.0</td>\n",
       "      <td>-0.337857</td>\n",
       "      <td>-0.202807</td>\n",
       "      <td>725.61</td>\n",
       "      <td>-1.067971</td>\n",
       "      <td>0.275503</td>\n",
       "      <td>254.79</td>\n",
       "      <td>0</td>\n",
       "      <td>80.82</td>\n",
       "      <td>Success</td>\n",
       "      <td>False</td>\n",
       "      <td>False</td>\n",
       "      <td>False</td>\n",
       "      <td>True</td>\n",
       "      <td>0.372033</td>\n",
       "    </tr>\n",
       "    <tr>\n",
       "      <th>2</th>\n",
       "      <td>MSN_0002</td>\n",
       "      <td>0.512963</td>\n",
       "      <td>1464.7</td>\n",
       "      <td>0.506320</td>\n",
       "      <td>0.345654</td>\n",
       "      <td>810.49</td>\n",
       "      <td>-0.118274</td>\n",
       "      <td>-1.488038</td>\n",
       "      <td>261.06</td>\n",
       "      <td>0</td>\n",
       "      <td>91.95</td>\n",
       "      <td>Success</td>\n",
       "      <td>False</td>\n",
       "      <td>False</td>\n",
       "      <td>False</td>\n",
       "      <td>True</td>\n",
       "      <td>0.163212</td>\n",
       "    </tr>\n",
       "    <tr>\n",
       "      <th>3</th>\n",
       "      <td>MSN_0003</td>\n",
       "      <td>1.510717</td>\n",
       "      <td>1833.2</td>\n",
       "      <td>1.359012</td>\n",
       "      <td>1.533623</td>\n",
       "      <td>1220.50</td>\n",
       "      <td>0.061196</td>\n",
       "      <td>-0.496851</td>\n",
       "      <td>574.26</td>\n",
       "      <td>0</td>\n",
       "      <td>82.80</td>\n",
       "      <td>Success</td>\n",
       "      <td>True</td>\n",
       "      <td>False</td>\n",
       "      <td>False</td>\n",
       "      <td>True</td>\n",
       "      <td>0.221974</td>\n",
       "    </tr>\n",
       "    <tr>\n",
       "      <th>4</th>\n",
       "      <td>MSN_0004</td>\n",
       "      <td>-0.484791</td>\n",
       "      <td>1678.2</td>\n",
       "      <td>1.026104</td>\n",
       "      <td>0.650320</td>\n",
       "      <td>927.37</td>\n",
       "      <td>0.681864</td>\n",
       "      <td>0.635935</td>\n",
       "      <td>290.14</td>\n",
       "      <td>0</td>\n",
       "      <td>87.37</td>\n",
       "      <td>Success</td>\n",
       "      <td>False</td>\n",
       "      <td>False</td>\n",
       "      <td>False</td>\n",
       "      <td>True</td>\n",
       "      <td>0.254985</td>\n",
       "    </tr>\n",
       "    <tr>\n",
       "      <th>5</th>\n",
       "      <td>MSN_0005</td>\n",
       "      <td>0.512963</td>\n",
       "      <td>1505.8</td>\n",
       "      <td>0.533220</td>\n",
       "      <td>0.780971</td>\n",
       "      <td>978.60</td>\n",
       "      <td>0.921158</td>\n",
       "      <td>0.983494</td>\n",
       "      <td>460.06</td>\n",
       "      <td>0</td>\n",
       "      <td>88.98</td>\n",
       "      <td>Success</td>\n",
       "      <td>True</td>\n",
       "      <td>False</td>\n",
       "      <td>False</td>\n",
       "      <td>True</td>\n",
       "      <td>0.261099</td>\n",
       "    </tr>\n",
       "  </tbody>\n",
       "</table>\n",
       "</div>"
      ],
      "text/plain": [
       "  mission_id  crew_size  mission_duration_days  distance_to_target_km  \\\n",
       "0   MSN_0000   1.510717                 1173.0              -0.337857   \n",
       "2   MSN_0002   0.512963                 1464.7               0.506320   \n",
       "3   MSN_0003   1.510717                 1833.2               1.359012   \n",
       "4   MSN_0004  -0.484791                 1678.2               1.026104   \n",
       "5   MSN_0005   0.512963                 1505.8               0.533220   \n",
       "\n",
       "   fuel_capacity_kg  payload_mass_kg  mental_health_score  solar_flare_risk  \\\n",
       "0         -0.202807           725.61            -1.067971          0.275503   \n",
       "2          0.345654           810.49            -0.118274         -1.488038   \n",
       "3          1.533623          1220.50             0.061196         -0.496851   \n",
       "4          0.650320           927.37             0.681864          0.635935   \n",
       "5          0.780971           978.60             0.921158          0.983494   \n",
       "\n",
       "   mission_cost_millions  anomaly_detected  mission_success_score  \\\n",
       "0                 254.79                 0                  80.82   \n",
       "2                 261.06                 0                  91.95   \n",
       "3                 574.26                 0                  82.80   \n",
       "4                 290.14                 0                  87.37   \n",
       "5                 460.06                 0                  88.98   \n",
       "\n",
       "  mission_outcome  mission_type_Rescue  mission_type_Resupply  \\\n",
       "0         Success                False                  False   \n",
       "2         Success                False                  False   \n",
       "3         Success                 True                  False   \n",
       "4         Success                False                  False   \n",
       "5         Success                 True                  False   \n",
       "\n",
       "   duration_bin_medium  duration_bin_long  risk_score  \n",
       "0                False               True    0.372033  \n",
       "2                False               True    0.163212  \n",
       "3                False               True    0.221974  \n",
       "4                False               True    0.254985  \n",
       "5                False               True    0.261099  "
      ]
     },
     "execution_count": 333,
     "metadata": {},
     "output_type": "execute_result"
    }
   ],
   "source": [
    "# Scale components between 0 and 1\n",
    "scaler = MinMaxScaler()\n",
    "flare_scaled = scaler.fit_transform(df_encoded[[\"solar_flare_risk\"]])\n",
    "mh_scaled = scaler.fit_transform((1 - df_encoded[[\"mental_health_score\"]]))  # Low mental health = more risk\n",
    "\n",
    "# Weight anomaly less heavily due to class imbalance\n",
    "risk_score = 0.4 * flare_scaled.flatten() + 0.4 * mh_scaled.flatten() + 0.2 * df_encoded[\"anomaly_detected\"]\n",
    "\n",
    "# Replace existing column\n",
    "df_encoded[\"risk_score\"] = risk_score\n",
    "\n",
    "# Display sample of engineered DataFrame\n",
    "df_encoded.head()"
   ]
  },
  {
   "cell_type": "markdown",
   "metadata": {},
   "source": [
    "This new `risk_score` is more informative than any single risk factor alone. It provides a holistic view of the mission's danger level. "
   ]
  },
  {
   "cell_type": "markdown",
   "metadata": {},
   "source": [
    "# Visualize Feature Engineering Impact\n",
    "\n",
    "Let's use correlation heatmaps to visually confirm our engineered data is a better predictor of success than the raw features it was made from.\n"
   ]
  },
  {
   "cell_type": "code",
   "execution_count": 334,
   "metadata": {},
   "outputs": [
    {
     "data": {
      "image/png": "[encoded data removed]",
      "text/plain": [
       "<Figure size 1000x600 with 2 Axes>"
      ]
     },
     "metadata": {},
     "output_type": "display_data"
    }
   ],
   "source": [
    "# Correlation heatmap of engineered features\n",
    "\n",
    "# Select key features to visualize correlations\n",
    "important_features = [\n",
    "    'mission_success_score',           # Target variable\n",
    "    'crew_size',\n",
    "    'mission_duration_days',\n",
    "    'distance_to_target_km',\n",
    "    'fuel_capacity_kg',\n",
    "    'payload_mass_kg',\n",
    "    'solar_flare_risk',\n",
    "    'mental_health_score',\n",
    "    'risk_score',\n",
    "]\n",
    "\n",
    "# Create correlation matrix for selected features\n",
    "plt.figure(figsize=(10, 6))\n",
    "sns.heatmap(\n",
    "    df_encoded[important_features].corr(),\n",
    "    annot=True,\n",
    "    cmap=\"coolwarm\",\n",
    "    fmt=\".2f\"\n",
    ")\n",
    "plt.title(\"Correlation Matrix of Selected Features\")\n",
    "plt.show()"
   ]
  },
  {
   "cell_type": "markdown",
   "metadata": {},
   "source": [
    "The heatmap immediately reveals two critical insights: a challenge and an opportunity.\n",
    "\n",
    "- **The Challenge**: Multicollinearity\n",
    "\n",
    "The dark red square in the top-left indicates high multicollinearity. The features `mission_duration_days` and `distance_to_target_km` are almost perfectly correlated (1.00), as are their relationships with `fuel_capacity_kg` (0.97).\n",
    "\n",
    "What this means: These features are redundant. Including them all in a model can make it unstable and hard to interpret, because the model struggles to decide which feature deserves credit. This is a classic problem that Regularization, which we'll cover on Day 4, is designed to solve.\n",
    "\n",
    "- **The Opportunity**: Validating `risk_score`\n",
    "\n",
    "While not the strongest single predictor, `risk_score` successfully consolidates multiple distinct factors (environmental, technical, and human) into a single, holistic metric. This allows a model to assess the overall mission danger with one number, which is often more practical than analyzing separate components."
   ]
  },
  {
   "cell_type": "markdown",
   "metadata": {},
   "source": [
    "## Part 2. Value of Feature Engineering\n",
    "\n",
    "Now, let's prove that our new features improve model performance by will comparing a model using only raw features to one with our engineered features."
   ]
  },
  {
   "cell_type": "markdown",
   "metadata": {},
   "source": [
    "### Model 1: Baseline Model (Raw Features)"
   ]
  },
  {
   "cell_type": "code",
   "execution_count": 335,
   "metadata": {},
   "outputs": [
    {
     "name": "stdout",
     "output_type": "stream",
     "text": [
      "MSE with Raw Features: 27.78\n",
      "R2 with Raw Features: 0.73\n",
      "Coefficients with Raw Features (High Multicollinearity):\n",
      "                crew_size: 0.18\n",
      "    distance_to_target_km: -14.85\n",
      "    mission_duration_days: 0.02\n",
      "         fuel_capacity_kg: 5.48\n",
      "         solar_flare_risk: -2.21\n",
      "      mental_health_score: 8.23\n"
     ]
    }
   ],
   "source": [
    "# Features available before engineering\n",
    "features_raw = ['crew_size', 'distance_to_target_km', 'mission_duration_days', 'fuel_capacity_kg', 'solar_flare_risk', 'mental_health_score']\n",
    "X_raw = df_encoded[features_raw]\n",
    "y = df_encoded['mission_success_score']\n",
    "\n",
    "model_raw = LinearRegression()\n",
    "model_raw.fit(X_raw, y)\n",
    "\n",
    "y_pred_raw = model_raw.predict(X_raw)\n",
    "\n",
    "mse_raw = mean_squared_error(y, y_pred_raw)\n",
    "r2_raw = r2_score(y, y_pred_raw)\n",
    "\n",
    "print(f\"MSE with Raw Features: {mse_raw:.2f}\")\n",
    "print(f\"R2 with Raw Features: {r2_raw:.2f}\")\n",
    "print(\"Coefficients with Raw Features (High Multicollinearity):\")\n",
    "for feat, coef in zip(features_raw, model_raw.coef_):\n",
    "    print(f\"{feat:>25}: {coef:.2f}\")\n"
   ]
  },
  {
   "cell_type": "markdown",
   "metadata": {},
   "source": [
    "### Model 2: Enhanced Model (Engineered Features)"
   ]
  },
  {
   "cell_type": "code",
   "execution_count": 336,
   "metadata": {},
   "outputs": [
    {
     "name": "stdout",
     "output_type": "stream",
     "text": [
      "MSE with Engineered Features: 19.57\n",
      "R2 with Raw Features: 0.81\n",
      "\n",
      " Coefficients with Engineered Features (Reduced Redundancy):\n",
      "               risk_score: -18.24\n",
      "    mission_type_Resupply: 5.82\n",
      "      mission_type_Rescue: -3.58\n",
      "      duration_bin_medium: -0.13\n",
      "        duration_bin_long: 1.80\n",
      "      mental_health_score: 6.68\n"
     ]
    }
   ],
   "source": [
    "# Using our new 'risk_score' and encoded categories\n",
    "features_eng = [ # Drop highly correlated features, e.g., payload mass, distance, fuel capacity\n",
    "    'risk_score', # Our composite feature\n",
    "    'mission_type_Resupply', 'mission_type_Rescue', # Encoded features\n",
    "    'duration_bin_medium', 'duration_bin_long', 'mental_health_score' # Still include mental health due to the high correlation\n",
    "]\n",
    "X_eng = df_encoded[features_eng]\n",
    "\n",
    "model_eng = LinearRegression()\n",
    "model_eng.fit(X_eng, y)\n",
    "y_pred_eng = model_eng.predict(X_eng)\n",
    "mse_eng = mean_squared_error(y, y_pred_eng)\n",
    "r2_eng = r2_score(y, y_pred_eng)\n",
    "\n",
    "print(f\"MSE with Engineered Features: {mse_eng:.2f}\")\n",
    "print(f\"R2 with Raw Features: {r2_eng:.2f}\")\n",
    "print(\"\\n Coefficients with Engineered Features (Reduced Redundancy):\")\n",
    "for feat, coef in zip(features_eng, model_eng.coef_):\n",
    "    print(f\"{feat:>25}: {coef:.2f}\")\n",
    "\n"
   ]
  },
  {
   "cell_type": "markdown",
   "metadata": {},
   "source": [
    "## Analysis & Takeaways\n",
    "\n",
    "The Result is Clear: The model using our engineered features achieved a significantly lower MSE (Mean Squared Error) than the baseline model. This means its predictions are, on average, closer to the true mission success scores.\n",
    "\n",
    "- Consolidated Features are Powerful: Creating the `risk_score` concentrated multiple weak signals into one predictor, which directly lowered the model's prediction error.\n",
    "\n",
    "- Models Can Learn from Categories: By encoding `mission_type`, we allowed the linear model to learn from non-numeric information, further improving its accuracy.\n",
    "\n",
    "**Takeway**: Feature engineering is where data science meets creativity. By thoughtfully transforming data, we build smarter, more accurate models.\n",
    "\n",
    "📌 Next up: Day 4 – Regularization & Cross-Validation\n",
    "Our model now uses many features. How do we manage this complexity and ensure our model is robust? Next, we'll learn Regularization techniques to prevent overfitting and Cross-Validation to measure our model's true performance."
   ]
  }
 ],
 "metadata": {
  "kernelspec": {
   "display_name": "venv",
   "language": "python",
   "name": "python3"
  },
  "language_info": {
   "codemirror_mode": {
    "name": "ipython",
    "version": 3
   },
   "file_extension": ".py",
   "mimetype": "text/x-python",
   "name": "python",
   "nbconvert_exporter": "python",
   "pygments_lexer": "ipython3",
   "version": "3.13.3"
  }
 },
 "nbformat": 4,
 "nbformat_minor": 2
}
